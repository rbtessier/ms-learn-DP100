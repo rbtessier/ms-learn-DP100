{
 "cells": [
  {
   "cell_type": "markdown",
   "metadata": {},
   "source": [
    "# Intro\n",
    "In Azure Machine Learning, data scientsts can run *experiments* based on scripts that process data, train machine learning models, adn perform other data science tasks. The runtime context for each experiment run consists of two elements:\n",
    "- The *environment* for the script, which includes all packages on which the script depends.\n",
    "  - Creating Environments\n",
    "  - Registering and Reusing Environments\n",
    "- The *compute* target on which the environment will be deployed and the script run\n",
    "  - create managed compute\n",
    "\n",
    "\n",
    "# Learning Objectives\n",
    "- Create and use environments\n",
    "- Create and use compute targets\n",
    "\n",
    "# Useful Links\n",
    "- [Reuse environments for training and deployment by using Azure Machine Learning](https://docs.microsoft.com/en-us/azure/machine-learning/how-to-use-environments)\n",
    "- For more information about compute targets in Azure Machine Learning, see [What are compute targets in Azure Machine Learning?](https://docs.microsoft.com/azure/machine-learning/concept-compute-target).\n",
    "\n",
    "# Ryan's Thoughts\n",
    "## Environments\n",
    "\n",
    "`4:30 pm July 29:` In my `kaggle_bike-sharing-demand-asmlMOD1-Copy1` I read a number of warnings about my sklearn not being the same version as that used in the model training (on workspace). This had me worried that I was getting bad numbers due to this. After testing on the Notebook on my ML workspace in Azure, that didn't seem to be the problem, but it highlights how running on a certain environment and having consistent packages is important!!\n",
    "\n",
    "## Compute targets\n",
    "\n",
    "`10:34 am July 30:` In my `kaggle_bike-...` I picked the compute target to be the Compute Instance to be `myCIWorkstationRyan` that I set up early in the tutorials in AZ-900. Local did not work because I was trying to run it from my desktop. from the error docs it appears to be because I didn't have Docker + other dependencies. The reason I tried local first is that I copied the code I used to run my model with a script in my `myCIWorkstationRyan` notebook. since the compute target was `local` when I ran on my home computer it tried to run in the same way on the machine where the code was stored. Since I changed to my own computer it didn't work. \n",
    "\n",
    "If I install docker, will this allow me to use my local desktop or laptop? I suspect yes with proper configuration.\n",
    "\n",
    "`12:54 pm July 30:` Reading the lab, it says that when you run a Python script as an experiment, a conda environment is created to define the execution context for the script. Perhaps another problem could be that my computer doesn't have conda (I think?)"
   ]
  },
  {
   "cell_type": "markdown",
   "metadata": {},
   "source": [
    "`1:03 pm July 30:` Cool experience, I ran the DP-100 LP2 MOD4 lab code with the target set to 'local' - which I ran on my desktop machine. in the error code, it told me to check the 60_control_log.txt with the error below:"
   ]
  },
  {
   "cell_type": "code",
   "execution_count": null,
   "metadata": {},
   "outputs": [],
   "source": [
    "[2020-07-30T19:01:15.435066] Using urllib.request Python 3.0 or later\n",
    "Streaming log file azureml-logs/60_control_log.txt\n",
    "FileNotFoundError(2, 'The system cannot find the file specified', None, 2, None)\n",
    "\n",
    "Docker was not found on the target, check that it is installed and on the path.\n",
    "\n",
    "Starting the daemon thread to refresh tokens in background for process with pid = 15892\n",
    "Logging error in history service: SystemExit: 1\n",
    "\n",
    "Uploading control log...\n"
   ]
  },
  {
   "cell_type": "markdown",
   "metadata": {},
   "source": [
    "As we can see, it was the fact that Docker was not found on the target. I'm thinking I will install it on my computer...\n",
    "\n",
    "`1:27 PM July 30:` Docker Desktop requires me to upgrade to Windows 10 Pro. This could take time so while I think I will upgrade, I am going to hold off until later to do so, for now I'll try just running on my CI instance\n"
   ]
  },
  {
   "cell_type": "markdown",
   "metadata": {},
   "source": [
    "# Intro to Environments\n",
    "Python code runs in the context of a *virtual environment* that defines the version of the Python runtime to be used as well as the installed packages available to the code. In most Python installations, packages are installed and managed in environments using ```Conda``` or ```pip```."
   ]
  },
  {
   "cell_type": "markdown",
   "metadata": {},
   "source": [
    "## Environments in Azure Machine Learning\n",
    "In general, Azure Machine Learning handles environment creation and package installation for you - usually through the creation of Docker containers. You can specify the Conda or pip packages you need, and have Azure Machine Learning create an environment for the experiment.\n",
    "\n",
    "In an enterprise machine learning solution, where experiments may be run in a variety of compute contexts, it can be important to be aware of the environments in which your experiment code is running. Environments are encapsulated by the Environment class; which you can use to create environments and specify runtime configuration for an experiment.\n",
    "\n",
    "You can have Azure Machine Learning manage environment creation and package installation to define an environment, and then register it for reuse. Alternatively, you can manage your own environments and register them. This makes it possible to define consistent, reusable runtime contexts for your experiments - regardless of where the experiment script is run."
   ]
  },
  {
   "cell_type": "markdown",
   "metadata": {},
   "source": [
    "# Creating environments\n",
    "There are multiple wasys to create environments in Azure Machine Learning:\n",
    "\n",
    "## Creating an environment from a specification file\n",
    "\n",
    "You can use a Conda or pip specification file to define the packages required in a Python environment, and use it to create an `Environment` object.\n",
    "\n",
    "For Example, you could save the following Conda configuration settings in a file named `conda.yml`"
   ]
  },
  {
   "cell_type": "raw",
   "metadata": {},
   "source": [
    "name: py_env\n",
    "dependencies:\n",
    "    - numpy\n",
    "    - pandas\n",
    "    - scikit-learn\n",
    "    - pip:\n",
    "        - azureml-defaults"
   ]
  },
  {
   "cell_type": "markdown",
   "metadata": {},
   "source": [
    "You could then use the following code to create an Azure Machine Learning environment from the saved specification file:"
   ]
  },
  {
   "cell_type": "code",
   "execution_count": null,
   "metadata": {},
   "outputs": [],
   "source": [
    "from azureml.core import Environment\n",
    "\n",
    "env = Environment.from_conda_specification(name = 'training_environment',\n",
    "                                          file_path = './conda.yml')"
   ]
  },
  {
   "cell_type": "markdown",
   "metadata": {},
   "source": [
    "## Creating environment from an existing Conda environment\n",
    "If you have an existing Conda environment defined on your workstation, you can use it to define an Azure ML environment"
   ]
  },
  {
   "cell_type": "code",
   "execution_count": null,
   "metadata": {},
   "outputs": [],
   "source": [
    "from azureml.core import Environment\n",
    "\n",
    "env = Environment.from_existing_conda_environment(name='training_environment',\n",
    "                                                  conda_environment_name='py_env')"
   ]
  },
  {
   "cell_type": "markdown",
   "metadata": {},
   "source": [
    "## Creating an environment by specifying packages\n",
    "You can define an environment by specifying the Conda and pip pakcages you need in a `CondaDependencies` object, like this:"
   ]
  },
  {
   "cell_type": "code",
   "execution_count": null,
   "metadata": {},
   "outputs": [],
   "source": [
    "from azureml.core import Environment\n",
    "from azureml.core.conda_dependencies import CondaDependencies\n",
    "\n",
    "env = Environment('training_environment')\n",
    "deps = CondaDependencies.create(conda_packages=['scikit-learn', 'pandas', 'numpy'], \n",
    "                                pip_packages=['azureml-defaults'])\n",
    "env.python.conda_dependencies = deps"
   ]
  },
  {
   "cell_type": "markdown",
   "metadata": {},
   "source": [
    "# Registering and reusing environments\n",
    "After you've created an environment, you can register it in your workspace and reuse it for future experiments that have the same Python dependencies.\n",
    "\n",
    "## Registering an environment\n",
    "Use the `register` method of an `Environment` object to register an environment:"
   ]
  },
  {
   "cell_type": "code",
   "execution_count": 1,
   "metadata": {},
   "outputs": [
    {
     "ename": "NameError",
     "evalue": "name 'env' is not defined",
     "output_type": "error",
     "traceback": [
      "\u001b[1;31m---------------------------------------------------------------------------\u001b[0m",
      "\u001b[1;31mNameError\u001b[0m                                 Traceback (most recent call last)",
      "\u001b[1;32m<ipython-input-1-8ef14fb106e1>\u001b[0m in \u001b[0;36m<module>\u001b[1;34m\u001b[0m\n\u001b[1;32m----> 1\u001b[1;33m \u001b[0menv\u001b[0m\u001b[1;33m.\u001b[0m\u001b[0mregister\u001b[0m\u001b[1;33m(\u001b[0m\u001b[0mworkspace\u001b[0m \u001b[1;33m=\u001b[0m \u001b[0mws\u001b[0m\u001b[1;33m)\u001b[0m\u001b[1;33m\u001b[0m\u001b[1;33m\u001b[0m\u001b[0m\n\u001b[0m",
      "\u001b[1;31mNameError\u001b[0m: name 'env' is not defined"
     ]
    }
   ],
   "source": [
    "env.register(workspace = ws)"
   ]
  },
  {
   "cell_type": "markdown",
   "metadata": {},
   "source": [
    "You can view the registered environments in your workspace like this:"
   ]
  },
  {
   "cell_type": "code",
   "execution_count": null,
   "metadata": {},
   "outputs": [],
   "source": [
    "from azureml.core import Environment\n",
    "\n",
    "env_names=Environment.list(workspace=ws)\n",
    "for env_name in env_names:\n",
    "    print('Name:', env__name)"
   ]
  },
  {
   "cell_type": "markdown",
   "metadata": {},
   "source": [
    "## Retrieving and using an environment\n",
    "You can retrieve a registered environment using the `get` method of the `Environment` class, and then assign it to a `ScriptRunConfig` or `Estimator`.\n",
    "\n",
    "For example, the following code sample retrieves the *training_environment* registered environment, and assigns it to an estimator."
   ]
  },
  {
   "cell_type": "code",
   "execution_count": 2,
   "metadata": {},
   "outputs": [
    {
     "ename": "NameError",
     "evalue": "name 'ws' is not defined",
     "output_type": "error",
     "traceback": [
      "\u001b[1;31m---------------------------------------------------------------------------\u001b[0m",
      "\u001b[1;31mNameError\u001b[0m                                 Traceback (most recent call last)",
      "\u001b[1;32m<ipython-input-2-68ffd63ccce8>\u001b[0m in \u001b[0;36m<module>\u001b[1;34m\u001b[0m\n\u001b[0;32m      2\u001b[0m \u001b[1;32mfrom\u001b[0m \u001b[0mazureml\u001b[0m\u001b[1;33m.\u001b[0m\u001b[0mtrain\u001b[0m\u001b[1;33m.\u001b[0m\u001b[0mestimator\u001b[0m \u001b[1;32mimport\u001b[0m \u001b[0mEstimator\u001b[0m\u001b[1;33m\u001b[0m\u001b[1;33m\u001b[0m\u001b[0m\n\u001b[0;32m      3\u001b[0m \u001b[1;33m\u001b[0m\u001b[0m\n\u001b[1;32m----> 4\u001b[1;33m \u001b[0mtraining_env\u001b[0m \u001b[1;33m=\u001b[0m \u001b[0mEnvironment\u001b[0m\u001b[1;33m.\u001b[0m\u001b[0mget\u001b[0m\u001b[1;33m(\u001b[0m\u001b[0mworkspace\u001b[0m\u001b[1;33m=\u001b[0m\u001b[0mws\u001b[0m\u001b[1;33m,\u001b[0m \u001b[0mname\u001b[0m\u001b[1;33m=\u001b[0m\u001b[1;34m'training_environment'\u001b[0m\u001b[1;33m)\u001b[0m\u001b[1;33m\u001b[0m\u001b[1;33m\u001b[0m\u001b[0m\n\u001b[0m",
      "\u001b[1;31mNameError\u001b[0m: name 'ws' is not defined"
     ]
    }
   ],
   "source": [
    "from azureml.core import Environment\n",
    "from azureml.train.estimator import Estimator\n",
    "\n",
    "training_env = Environment.get(workspace=ws, name='training_environment')\n",
    "estimator = Estimator(source_directory='experiment_folder',\n",
    "                      entry_script='training_script.py',\n",
    "                      compute_target='local',\n",
    "                      environment_definition = training_env\n",
    "                     )"
   ]
  },
  {
   "cell_type": "markdown",
   "metadata": {},
   "source": [
    "When an experiment based on the estimator is run, Azure Machine Learning will look for an existing environment that matches the definition, and if none is found a new environment will be created based on the registered environment specification."
   ]
  },
  {
   "cell_type": "markdown",
   "metadata": {},
   "source": [
    "# Introduction to compute targets\n",
    "In Azure Machine Learning, Compute Targets are physical or virtual computers on which experiments are run.\n",
    "\n",
    "The ability to assign experiment runs to specific compute targets helps you implement a flexible data science ecosystem in the following ways:\n",
    "\n",
    "- Code can be developed and tested on local or low-cost compute, and then moved to more scalable compute for production workloads.\n",
    "- You can run individual processes on the compute target that best fits its needs. For example, by using GPU-based compute to train deep learning models, and switching to lower-cost CPU-only compute to test and register the trained model.\n",
    "\n",
    "One of the core benefits of cloud computing is the ability to manage costs by paying only for what you use. In Azure Machine Learning, you can take advantage of this principle by defining compute targets that:\n",
    "\n",
    "- Start on-demand and stop automatically when no longer required.\n",
    "- Scale automatically based on workload processing needs.\n",
    "\n",
    "## Types of Compute\n",
    "\n",
    "Azure Machine Learning supports multiple types of compute for experimentation and training, and for production inferencing. This enables you to select the most appropriate type of compute target for your particular needs.\n",
    "\n",
    "### Local compute\n",
    "You can specify a local compute target for most processing tasks in Azure Machine Learning. This runs the experiment on the same compute target as the code used to initiate the experiment, which may be your physical workstation or a virtual machine such as an Azure Machine Learning compute instance on which you are running a notebook.\n",
    "\n",
    "Local compute is generally a great choice during development and testing with low to moderate volumes of data.\n",
    "\n",
    "### Compute clusters\n",
    "For experiment workloads with high scalability requirements, you can use Azure Machine Learning compute clusters; which are multi-node clusters of Virtual Machines that automatically scale up or down to meet demand. This is a cost-effective way to run experiments that need to handle large volumes of data or use parallel processing to distribute the workload and reduce the time it takes to run.\n",
    "\n",
    "### Inference clusters\n",
    "To deploy trained models as production services, you can use Azure Machine Learning inference clusters, which use containerization technologies to enable rapid initialization of compute for on-demand inferencing.\n",
    "\n",
    "### Attached compute\n",
    "If you already use an Azure-based compute environment for data science, such as a virtual machine or an Azure Databricks cluster, you can attach it to your Azure Machine Learning workspace and use it as a compute target for certain types of workload.\n",
    "\n",
    "#### More Information: \n",
    "For more information about the types of compute target supported in Azure Machine Learning, see What are compute targets in Azure Machine Learning? in the Azure Machine Learning documentation."
   ]
  },
  {
   "cell_type": "markdown",
   "metadata": {},
   "source": [
    "# Create compute targets\n",
    "\n",
    "The most common way to creat or attach a compute target are the use the **Compute** page in Azure Machine Learning studio, or to use the Azure Machine Learning SDK to provision compute targets in code.\n",
    "\n",
    "## Creating a managed compute target with the SDK\n",
    "A *managed* compute target is one that is managed by Azure Machine Learning, such as an Azure Machine Learning Compute Cluster\n",
    "\n",
    "To create an Azure Machine Learning compute cluster, use the `azureml.core.compute.ComputeTarget` class and the `AmlCompute` class, like this;"
   ]
  },
  {
   "cell_type": "code",
   "execution_count": 3,
   "metadata": {},
   "outputs": [
    {
     "ename": "NameError",
     "evalue": "name 'ws' is not defined",
     "output_type": "error",
     "traceback": [
      "\u001b[1;31m---------------------------------------------------------------------------\u001b[0m",
      "\u001b[1;31mNameError\u001b[0m                                 Traceback (most recent call last)",
      "\u001b[1;32m<ipython-input-3-f4a92036ed22>\u001b[0m in \u001b[0;36m<module>\u001b[1;34m\u001b[0m\n\u001b[0;32m     15\u001b[0m \u001b[1;33m\u001b[0m\u001b[0m\n\u001b[0;32m     16\u001b[0m \u001b[1;31m# Create the compute\u001b[0m\u001b[1;33m\u001b[0m\u001b[1;33m\u001b[0m\u001b[1;33m\u001b[0m\u001b[0m\n\u001b[1;32m---> 17\u001b[1;33m \u001b[0maml_cluster\u001b[0m \u001b[1;33m=\u001b[0m \u001b[0mComputeTarget\u001b[0m\u001b[1;33m.\u001b[0m\u001b[0mcreate\u001b[0m\u001b[1;33m(\u001b[0m\u001b[0mws\u001b[0m\u001b[1;33m,\u001b[0m \u001b[0mcompute_name\u001b[0m\u001b[1;33m,\u001b[0m \u001b[0mcompute_config\u001b[0m\u001b[1;33m)\u001b[0m\u001b[1;33m\u001b[0m\u001b[1;33m\u001b[0m\u001b[0m\n\u001b[0m\u001b[0;32m     18\u001b[0m \u001b[0maml_cluster\u001b[0m\u001b[1;33m.\u001b[0m\u001b[0mwait_for_completion\u001b[0m\u001b[1;33m(\u001b[0m\u001b[0mshow_output\u001b[0m\u001b[1;33m=\u001b[0m\u001b[1;32mTrue\u001b[0m\u001b[1;33m)\u001b[0m\u001b[1;33m\u001b[0m\u001b[1;33m\u001b[0m\u001b[0m\n",
      "\u001b[1;31mNameError\u001b[0m: name 'ws' is not defined"
     ]
    }
   ],
   "source": [
    "from azureml.core import Workspace\n",
    "from azureml.core.compute import ComputeTarget, AmlCompute\n",
    "\n",
    "#Load the workspace from the saved config file\n",
    "we = Workspace.from_config()\n",
    "\n",
    "# Specify a name for the compute (unique within the workspace)\n",
    "compute_name = 'aml-cluster'\n",
    "\n",
    "#Define compute configuration\n",
    "compute_config = AmlCompute.provisioning_configuration(vm_size='STANDARD_DS12_V2',\n",
    "                                                       min_nodes=0, max_nodes=4,\n",
    "                                                       vm_priority='dedicated'\n",
    "                                                      )\n",
    "\n",
    "# Create the compute\n",
    "aml_cluster = ComputeTarget.create(ws, compute_name, compute_config)\n",
    "aml_cluster.wait_for_completion(show_output=True)"
   ]
  },
  {
   "cell_type": "markdown",
   "metadata": {},
   "source": [
    "In this example, a cluster with up to four nodes that is based on the STANDARD_DS12_v2 virtual machine image will be created. The priority for the virtual machines (VMs) is set to dedicated, meaning they are reserved for use in this cluster (the alternative is to specify lowpriority, which has a lower cost but means that the VMs can be preempted if a higher-priority workload requires the compute).\n",
    "\n",
    "More information here on `AmlCompute` class here: https://docs.microsoft.com/en-us/python/api/azureml-core/azureml.core.compute.amlcompute.amlcompute?view=azure-ml-py"
   ]
  },
  {
   "cell_type": "markdown",
   "metadata": {},
   "source": [
    "## Attaching an unmanaged compute target with the SDK\n",
    "An *unmanaged* compute target is one that is defined and managed outside of the Azure Machine Learning workspace; for example, an Azure virtual machine or an Azure Databricks cluster.\n",
    "\n",
    "The code to attach an existing unmanaged compute target is similar to the code used to create a managed compute target, except that you must use the `ComputeTarget.attach()` method to attach the existing compute based on its target-specific configuration settings.\n",
    "\n",
    "For example, the following code can be used to attach an existing Azure Databricks cluster:"
   ]
  },
  {
   "cell_type": "code",
   "execution_count": null,
   "metadata": {},
   "outputs": [],
   "source": [
    "from azureml.core import Workspace\n",
    "from azureml.core.compute import ComputeTarget, DatabricksCompute\n",
    "\n",
    "# Load the workspace from the saved config file\n",
    "ws = Workspace.from_config()\n",
    "\n",
    "# Specify a name for the compute (unique within the workspace)\n",
    "compute_name = 'db_cluster'\n",
    "\n",
    "# Define configuration for existing Azure Databricks cluster\n",
    "db_workspace_name = 'db_workspace'\n",
    "db_resource_group = 'db_resource_group'\n",
    "db_access_token = '1234-abc-5678-defg-90...'\n",
    "db_config = DatabricksCompute.attach_configuration(resource_group=db_resource_group,\n",
    "                                                   workspace_name=db_workspace_name,\n",
    "                                                   access_token=db_access_token\n",
    "                                                  )\n",
    "\n",
    "# Create the compute\n",
    "databricks_compute = ComputeTarget.attach(ws, compute_name, db_config)\n",
    "databricks_compute.wait_for_completion(True) #do they mean show_output=True? there are 3 arguments to this function with their own tag (not the right word)"
   ]
  },
  {
   "cell_type": "markdown",
   "metadata": {},
   "source": [
    "## Checking for an existing compute target\n",
    "In many cases, you will want to check for the existence of a compute target, an only create a new one if there isn't already one with the specified name. To accomplish this, you can catch the `ComputeTargetException` exception, like this:\n"
   ]
  },
  {
   "cell_type": "code",
   "execution_count": null,
   "metadata": {},
   "outputs": [],
   "source": [
    "from azureml.core.compute import ComputeTarget, AmlCompute\n",
    "from azureml.core.compute_target import ComputeTargetException\n",
    "\n",
    "compute_name = \"aml-cluster\"\n",
    "\n",
    "# Check if the compute target exists\n",
    "try:\n",
    "    aml_cluster = ComputeTarget(workspace=ws, name=compute_name)\n",
    "    print('Fuond existing cluster.')\n",
    "except ComputeTargetException: #ComputeTargetException is a class\n",
    "    # If not, create it\n",
    "    compute_config = AmlCompute.provisioning_configuration(vm_size = 'STANDARD_DS12_V2',\n",
    "                                                           max_nodes=4\n",
    "                                                          )\n",
    "    aml_cluster = ComputeTarget.create(ws,compute_name, compute_config)\n",
    "    \n",
    "aml_cluster.wait_for_completion(show_output=True)"
   ]
  },
  {
   "cell_type": "markdown",
   "metadata": {},
   "source": [
    "# Use compute targets\n",
    "After you've created environments and compute targets in your workspace, you can use them to run specific workloads; such as experiments\n",
    "\n",
    "To use a particular compute target, you can specify it in the appropriate parameter for an experiment run configuration or estimator. For example, the following code configures an estimator to use the compute target named *aml-cluster*:"
   ]
  },
  {
   "cell_type": "code",
   "execution_count": 4,
   "metadata": {},
   "outputs": [
    {
     "ename": "NameError",
     "evalue": "name 'ws' is not defined",
     "output_type": "error",
     "traceback": [
      "\u001b[1;31m---------------------------------------------------------------------------\u001b[0m",
      "\u001b[1;31mNameError\u001b[0m                                 Traceback (most recent call last)",
      "\u001b[1;32m<ipython-input-4-5930158ae655>\u001b[0m in \u001b[0;36m<module>\u001b[1;34m\u001b[0m\n\u001b[0;32m      4\u001b[0m \u001b[0mcompute_name\u001b[0m \u001b[1;33m=\u001b[0m \u001b[1;34m'aml-cluster'\u001b[0m\u001b[1;33m\u001b[0m\u001b[1;33m\u001b[0m\u001b[0m\n\u001b[0;32m      5\u001b[0m \u001b[1;33m\u001b[0m\u001b[0m\n\u001b[1;32m----> 6\u001b[1;33m \u001b[0mtraining_env\u001b[0m \u001b[1;33m=\u001b[0m \u001b[0mEnvironment\u001b[0m\u001b[1;33m.\u001b[0m\u001b[0mget\u001b[0m\u001b[1;33m(\u001b[0m\u001b[0mworkspace\u001b[0m\u001b[1;33m=\u001b[0m\u001b[0mws\u001b[0m\u001b[1;33m,\u001b[0m \u001b[0mname\u001b[0m\u001b[1;33m=\u001b[0m\u001b[1;34m'training_environment'\u001b[0m\u001b[1;33m)\u001b[0m\u001b[1;33m\u001b[0m\u001b[1;33m\u001b[0m\u001b[0m\n\u001b[0m\u001b[0;32m      7\u001b[0m \u001b[1;33m\u001b[0m\u001b[0m\n\u001b[0;32m      8\u001b[0m estimator = Estimator(source_directory='experiment_folder',\n",
      "\u001b[1;31mNameError\u001b[0m: name 'ws' is not defined"
     ]
    }
   ],
   "source": [
    "from azureml.core import Environment\n",
    "from azureml.train.estimator import Estimator\n",
    "\n",
    "compute_name = 'aml-cluster'\n",
    "\n",
    "training_env = Environment.get(workspace=ws, name='training_environment')\n",
    "\n",
    "estimator = Estimator(source_directory='experiment_folder',\n",
    "                      entry_script='training_script.py',\n",
    "                      environment_definition=training_env,\n",
    "                      compute_target=compute_name\n",
    "                     )"
   ]
  },
  {
   "cell_type": "markdown",
   "metadata": {},
   "source": [
    "When an experiment for the estimator is submitted, the run will be queued while the compute target is started and the specified environment deployed to it, and then the run will be processed on the compute environment.\n",
    "\n",
    "Instead of specifying the name of the compute target, you can specify a `ComputeTarget` object, like this:"
   ]
  },
  {
   "cell_type": "code",
   "execution_count": null,
   "metadata": {},
   "outputs": [],
   "source": [
    "from azureml.core import Environment\n",
    "from azureml.train.estimator import Estimator\n",
    "from azureml.core.compute import ComputeTarget\n",
    "\n",
    "compute_name = 'aml-cluster'\n",
    "\n",
    "training_cluster = ComputeTarget(workspace=ws, name=compute_name)\n",
    "\n",
    "training_env = Environment.get(workspace=ws, name='training_environment')\n",
    "\n",
    "estimator = Estimator(source_directory='experiment_folder',\n",
    "                      entry_script='training_script.py',\n",
    "                      environment_definition=training_env,\n",
    "                      compute_target=training_cluster)"
   ]
  }
 ],
 "metadata": {
  "kernelspec": {
   "display_name": "Python 3",
   "language": "python",
   "name": "python3"
  },
  "language_info": {
   "codemirror_mode": {
    "name": "ipython",
    "version": 3
   },
   "file_extension": ".py",
   "mimetype": "text/x-python",
   "name": "python",
   "nbconvert_exporter": "python",
   "pygments_lexer": "ipython3",
   "version": "3.8.4"
  }
 },
 "nbformat": 4,
 "nbformat_minor": 4
}
