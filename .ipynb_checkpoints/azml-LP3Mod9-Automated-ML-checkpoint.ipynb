{
 "cells": [
  {
   "cell_type": "markdown",
   "metadata": {},
   "source": [
    "# Automate machine learning model selection with Azure Machine Learning\n",
    "\n",
    "## Intro\n",
    "*Automated Machine Learning* enables you to try multiple algorithms and preprocessing transformations with your data. This, combined with scalable cloud-based compute makes it possible to find the best performing model for your data without the huge amount of time-consuming manual trial and error that would otherwise be required.\n",
    "\n",
    "Azure ML includes support for automated machine learning through a visual interface in Azure Machine Learning studio for *Enterprise* edition workspaces only. You can use the Azure ML SDK to run automated machine learning experiments in either *Basic* or *Enterprise* edition workspaces\n",
    "\n",
    "## Learning objectives\n",
    "\n",
    "In this module, you will learn how to:\n",
    "\n",
    "- Use Azure Machine Learning's automated machine learning capabilities to determine the best performing algorithm for your data.\n",
    "- Use automated machine learning to preprocess data for training.\n",
    "- Run an automated machine learning experiment."
   ]
  },
  {
   "cell_type": "markdown",
   "metadata": {},
   "source": [
    "# Automated machine learning tasks and algorithms\n",
    "\n",
    "[Find the extensive list of Classification, Regression and Time Series Algorithms here](https://docs.microsoft.com/en-us/learn/modules/automate-model-selection-with-azure-automl/2-automl-algorithms)\n",
    "\n",
    "## Restricting Algorithm Selection\n",
    "By default, automated machine learning will randomly select from the full range of algorithms for the specified task. You can choose to block individual algorithms from being selected; which can be useful if you know that your data is not suited to a particular type of algorithm, or you have to comply with a policy that restricts the type of machine learning algorithms you can use in your organization.\n",
    "\n",
    "Further, more detail can be found in the [documentation](https://aka.ms/AA70rrr)"
   ]
  },
  {
   "cell_type": "markdown",
   "metadata": {},
   "source": [
    "# Preprocessing and featurization\n",
    "\n",
    "As well as trying a selection of algorithms, automated machine learning can apply preprocessing transformations to your data; improving the performance of the model.\n",
    "\n",
    "## Scaling and Normalization\n",
    "Automated machine learning applies scaling and normalization to numeric data automatically, helping prevent any large-scale features from dominating training. During an automated machine learning experiment, multiple scaling or normalization techniques will be applied.\n",
    "\n",
    "## Optional Featurization\n",
    "You can choose to have automated machine learning apply preprocessing transformations such as:\n",
    "\n",
    "- Missing value imputation to eliminate nulls in the training dataset.\n",
    "- Categorical encoding to convert categorical features to numeric indicators.\n",
    "- Dropping high-cardinality features, such as record IDs.\n",
    "- Feature engineering (for example, deriving individual date parts from DateTime features)\n",
    "- Others...\n",
    "\n",
    "More Information: For more information about the preprocessing support in automated machine learning , see What is automated machine learning in the documentation.\n",
    "\n",
    "\n",
    "\n",
    "[What is AutoML](https://docs.microsoft.com/en-us/azure/machine-learning/concept-automated-ml#preprocessing)"
   ]
  },
  {
   "cell_type": "markdown",
   "metadata": {},
   "source": [
    "# Configuring an AutoML Experiment\n",
    "Use the `AutoMLConfig` class as shown:"
   ]
  },
  {
   "cell_type": "markdown",
   "metadata": {},
   "source": [
    "from azureml.train.automl import AutoMLConfig\n",
    "\n",
    "automl_run_config = RunConfiguration(framework='python')\n",
    "automl_config = AutoMLConfig(name='Automated ML Experiment',\n",
    "                             task='classification',\n",
    "                             primary_metric = 'AUC_weighted',\n",
    "                             compute_target=aml_compute,\n",
    "                             training_data = train_dataset,\n",
    "                             validation_data = test_dataset,\n",
    "                             label_column_name='Label',\n",
    "                             featurization='auto',\n",
    "                             iterations=12,\n",
    "                             max_concurrent_iterations=4)"
   ]
  },
  {
   "cell_type": "markdown",
   "metadata": {},
   "source": [
    "## Specifying Data for Training\n",
    "Automated machine learning is designed to enable you to simply bring your data, and have Azure Machine Learning figure out how best to train a model from it.\n",
    "\n",
    "When using the Automated Machine Learning user interface in Azure Machine Learning studio, you can create or select an Azure Machine Learning dataset to be used as the input for your automated machine learning experiment.\n",
    "\n",
    "When using the SDK to run an automated machine learning experiment, you can submit the data in the following ways:\n",
    "\n",
    "- Specify a dataset or dataframe of training data that includes features and the label to be predicted.\n",
    "- Optionally, specify a second validation data dataset or dataframe that will be used to validate the trained model. if this is not provided, Azure Machine Learning will apply cross-validation using the training data.\n",
    "\n",
    "Alternatively:\n",
    "\n",
    "- Specify a dataset, dataframe, or numpy array of X values containing the training features, with a corresponding y array of label values.\n",
    "- Optionally, specify X_valid and y_valid datasets, dataframes, or numpy arrays of X_valid values to be used for validation."
   ]
  },
  {
   "cell_type": "markdown",
   "metadata": {},
   "source": [
    "## Specifying the Primary Metric\n",
    "One of the most important settings you must specify is the `primary_metric`. This is the target performance metric for which the optimal model will be determined. Azure Machine Learning supports a set of named metrics for each type of task. To retrieve the list of metrics available for a particular task type, you can use the `get_primary_metrics` function as shown here:"
   ]
  },
  {
   "cell_type": "code",
   "execution_count": null,
   "metadata": {},
   "outputs": [],
   "source": [
    "from azureml.train.automl.utilities import get_primary_metrics\n",
    "\n",
    "get_primary_metrics('classification')"
   ]
  },
  {
   "cell_type": "markdown",
   "metadata": {},
   "source": [
    "Find a full list of primary metrics and their definitions in [Understand Automated machine learning results](https://aka.ms/AA70rrw)"
   ]
  },
  {
   "cell_type": "markdown",
   "metadata": {},
   "source": [
    "## Submitting an Automated Machine Learning Experiment\n",
    "You can submit an automated machine learning experiment like any other SDK-based experiment:"
   ]
  },
  {
   "cell_type": "code",
   "execution_count": null,
   "metadata": {},
   "outputs": [],
   "source": [
    "from azureml.core.experiment import Experiment\n",
    "\n",
    "automl_experiment = Experiment(ws, 'automl_experiment')\n",
    "automl_run = automl_experiment.submit(automl_config)"
   ]
  },
  {
   "cell_type": "markdown",
   "metadata": {},
   "source": [
    "## Retrieving the Best Run and its Model\n",
    "You can easily identify the best run in Azure Machine Learning studio, and download or deploy the model it generated. To accomplish this programmatically with the SDK, you can use code like the following example:"
   ]
  },
  {
   "cell_type": "code",
   "execution_count": null,
   "metadata": {},
   "outputs": [],
   "source": [
    "best_run, fitted_model = automl_run.get_output()\n",
    "best_run_metrics = best_run.get_metrics()\n",
    "for metric_name in best_run_metrics:\n",
    "    metric = best_run_metrics[metric_name]\n",
    "    print(metric_name, metric)"
   ]
  },
  {
   "cell_type": "markdown",
   "metadata": {},
   "source": [
    "## Exploring Preprocessing Steps\n",
    "Automated machine learning uses scikit-learn pipelines to encapsulate preprocessing steps with the model. You can view the steps in the fitted model you obtained from the best run using the code above like this:"
   ]
  },
  {
   "cell_type": "code",
   "execution_count": null,
   "metadata": {},
   "outputs": [],
   "source": [
    "for step_ in fitted_model.named_steps:\n",
    "    print(step)"
   ]
  }
 ],
 "metadata": {
  "kernelspec": {
   "display_name": "Python 3",
   "language": "python",
   "name": "python3"
  },
  "language_info": {
   "codemirror_mode": {
    "name": "ipython",
    "version": 3
   },
   "file_extension": ".py",
   "mimetype": "text/x-python",
   "name": "python",
   "nbconvert_exporter": "python",
   "pygments_lexer": "ipython3",
   "version": "3.8.4"
  }
 },
 "nbformat": 4,
 "nbformat_minor": 4
}
