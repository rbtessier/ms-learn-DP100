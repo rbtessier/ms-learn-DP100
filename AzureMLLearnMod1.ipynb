{
 "cells": [
  {
   "cell_type": "code",
   "execution_count": 20,
   "metadata": {},
   "outputs": [
    {
     "name": "stderr",
     "output_type": "stream",
     "text": [
      "WARNING - Retrying (Retry(total=2, connect=2, read=3, redirect=None, status=None)) after connection broken by 'NewConnectionError('<urllib3.connection.HTTPSConnection object at 0x000001E28986F400>: Failed to establish a new connection: [WinError 10060] A connection attempt failed because the connected party did not properly respond after a period of time, or established connection failed because connected host has failed to respond')': /history/v1.0/subscriptions/72656d3a-fc47-4387-8c69-13f86d502d86/resourceGroups/myMLResourceGroup/providers/Microsoft.MachineLearningServices/workspaces/myMLWorkspace1/experiments/my-experiment/runs/0a913e1e-50bd-4634-9ef5-b4af2da71c1c/children?$orderby=StartTimeUtc%20desc&$top=500\n",
      "WARNING - Retrying (Retry(total=2, connect=2, read=3, redirect=None, status=None)) after connection broken by 'NewConnectionError('<urllib3.connection.HTTPSConnection object at 0x000001E28986CDF0>: Failed to establish a new connection: [WinError 10060] A connection attempt failed because the connected party did not properly respond after a period of time, or established connection failed because connected host has failed to respond')': /history/v1.0/subscriptions/72656d3a-fc47-4387-8c69-13f86d502d86/resourceGroups/myMLResourceGroup/providers/Microsoft.MachineLearningServices/workspaces/myMLWorkspace1/experimentids/e608c5af-6607-4b1d-b072-41dcc9088445/runs/0a913e1e-50bd-4634-9ef5-b4af2da71c1c\n",
      "WARNING - Retrying (Retry(total=2, connect=2, read=3, redirect=None, status=None)) after connection broken by 'NewConnectionError('<urllib3.connection.HTTPSConnection object at 0x000001E28986C910>: Failed to establish a new connection: [WinError 10060] A connection attempt failed because the connected party did not properly respond after a period of time, or established connection failed because connected host has failed to respond')': /history/v1.0/subscriptions/72656d3a-fc47-4387-8c69-13f86d502d86/resourceGroups/myMLResourceGroup/providers/Microsoft.MachineLearningServices/workspaces/myMLWorkspace1/experimentids/e608c5af-6607-4b1d-b072-41dcc9088445/runs/0a913e1e-50bd-4634-9ef5-b4af2da71c1c\n"
     ]
    }
   ],
   "source": [
    "#loads a workspace from the config.json file\n",
    "from azureml.core import Workspace\n",
    "\n",
    "ws = Workspace.from_config()"
   ]
  },
  {
   "cell_type": "code",
   "execution_count": 2,
   "metadata": {},
   "outputs": [
    {
     "name": "stdout",
     "output_type": "stream",
     "text": [
      "myCIWorkstationRyan : ComputeInstance\n",
      "myCClusterRyan : AmlCompute\n"
     ]
    }
   ],
   "source": [
    "\n",
    "for compute_name in ws.compute_targets:\n",
    "    compute = ws.compute_targets[compute_name]\n",
    "    print(compute.name, \":\", compute.type)\n"
   ]
  },
  {
   "cell_type": "code",
   "execution_count": 3,
   "metadata": {},
   "outputs": [],
   "source": [
    "from azureml.core import Workspace\n",
    "\n",
    "ws2 = Workspace.get(name=\"aml-workspace-ryan\", subscription_id = \"72656d3a-fc47-4387-8c69-13f86d502d86\", resource_group=\"myMLResourceGroup\")##I have since deleted this"
   ]
  },
  {
   "cell_type": "code",
   "execution_count": 4,
   "metadata": {},
   "outputs": [
    {
     "name": "stdout",
     "output_type": "stream",
     "text": [
      "myCIWorkstationRyan : ComputeInstance\n",
      "myCClusterRyan : AmlCompute\n"
     ]
    }
   ],
   "source": [
    "for compute_name in ws.compute_targets:\n",
    "    compute = ws.compute_targets[compute_name]\n",
    "    print(compute.name, \":\", compute.type)"
   ]
  },
  {
   "cell_type": "code",
   "execution_count": 5,
   "metadata": {},
   "outputs": [
    {
     "name": "stdout",
     "output_type": "stream",
     "text": [
      "ryansComputeInstance : ComputeInstance\n"
     ]
    }
   ],
   "source": [
    "for compute_name in ws2.compute_targets:\n",
    "    compute = ws2.compute_targets[compute_name]\n",
    "    print(compute.name, \":\", compute.type)"
   ]
  },
  {
   "cell_type": "code",
   "execution_count": 6,
   "metadata": {},
   "outputs": [],
   "source": [
    "from azureml.core import Experiment\n",
    "\n",
    "# create an experiment variable\n",
    "experiment = Experiment(workspace = ws, name = \"my-experiment\")\n",
    "\n",
    "# start the experiment\n",
    "run = experiment.start_logging()\n",
    "\n",
    "# experiment code goes here\n",
    "\n",
    "# end the experiment\n",
    "run.complete()"
   ]
  },
  {
   "cell_type": "code",
   "execution_count": 7,
   "metadata": {},
   "outputs": [
    {
     "name": "stdout",
     "output_type": "stream",
     "text": [
      "149\n"
     ]
    }
   ],
   "source": [
    "import pandas as pd\n",
    "\n",
    "\n",
    "# Create an Azure ML experiment in your workspace\n",
    "experiment = Experiment(workspace = ws, name = 'my-experiment')\n",
    "\n",
    "# Start logging data from the experiment\n",
    "run = experiment.start_logging()\n",
    "\n",
    "# load the dataset and count the rows\n",
    "data = pd.read_csv('iris.csv')\n",
    "row_count = (len(data))\n",
    "print(row_count)\n",
    "# Log the row count\n",
    "run.log('observations', row_count)\n",
    "\n",
    "# Complete the experiment\n",
    "run.complete()"
   ]
  },
  {
   "cell_type": "code",
   "execution_count": 8,
   "metadata": {},
   "outputs": [
    {
     "data": {
      "application/vnd.jupyter.widget-view+json": {
       "model_id": "bd1ecf97a8234ef5ad8ac56177cd8435",
       "version_major": 2,
       "version_minor": 0
      },
      "text/plain": [
       "_UserRunWidget(widget_settings={'childWidgetDisplay': 'popup', 'send_telemetry': False, 'log_level': 'INFO', '…"
      ]
     },
     "metadata": {},
     "output_type": "display_data"
    },
    {
     "data": {
      "application/aml.mini.widget.v1": "{\"status\": \"Completed\", \"workbench_run_details_uri\": \"https://ml.azure.com/experiments/my-experiment/runs/0a913e1e-50bd-4634-9ef5-b4af2da71c1c?wsid=/subscriptions/72656d3a-fc47-4387-8c69-13f86d502d86/resourcegroups/myMLResourceGroup/workspaces/myMLWorkspace1\", \"run_id\": \"0a913e1e-50bd-4634-9ef5-b4af2da71c1c\", \"run_properties\": {\"run_id\": \"0a913e1e-50bd-4634-9ef5-b4af2da71c1c\", \"created_utc\": \"2020-07-17T16:23:29.566188Z\", \"properties\": {\"ContentSnapshotId\": \"0008061c-9dda-4463-aa97-eb89dd4cff95\"}, \"tags\": {}, \"end_time_utc\": \"2020-07-17T16:23:31.821365Z\", \"status\": \"Completed\", \"log_files\": {}, \"log_groups\": [], \"run_duration\": \"0:00:02\"}, \"child_runs\": [], \"children_metrics\": {}, \"run_metrics\": [{\"name\": \"observations\", \"run_id\": \"0a913e1e-50bd-4634-9ef5-b4af2da71c1c\", \"categories\": [0], \"series\": [{\"data\": [149]}]}], \"run_logs\": \"\\nRun is completed.\", \"graph\": {}, \"widget_settings\": {\"childWidgetDisplay\": \"popup\", \"send_telemetry\": false, \"log_level\": \"INFO\", \"sdk_version\": \"1.9.0\"}, \"loading\": false}"
     },
     "metadata": {},
     "output_type": "display_data"
    }
   ],
   "source": [
    "from azureml.widgets import RunDetails\n",
    "\n",
    "RunDetails(run).show()"
   ]
  },
  {
   "cell_type": "code",
   "execution_count": 9,
   "metadata": {},
   "outputs": [
    {
     "name": "stdout",
     "output_type": "stream",
     "text": [
      "{\n",
      "  \"observations\": 149\n",
      "}\n"
     ]
    }
   ],
   "source": [
    "import json\n",
    "\n",
    "#get logged metrics\n",
    "metrics = run.get_metrics()\n",
    "print(json.dumps(metrics, indent=2))"
   ]
  },
  {
   "cell_type": "code",
   "execution_count": 10,
   "metadata": {},
   "outputs": [
    {
     "data": {
      "text/plain": [
       "<azureml._restclient.models.batch_artifact_content_information_dto.BatchArtifactContentInformationDto at 0x1e2882c69d0>"
      ]
     },
     "execution_count": 10,
     "metadata": {},
     "output_type": "execute_result"
    }
   ],
   "source": [
    "run.upload_file(name='iris.csv', path_or_stream='./iris.csv')"
   ]
  },
  {
   "cell_type": "code",
   "execution_count": 11,
   "metadata": {},
   "outputs": [],
   "source": [
    "files=run.get_file_names()"
   ]
  },
  {
   "cell_type": "code",
   "execution_count": 12,
   "metadata": {},
   "outputs": [
    {
     "name": "stdout",
     "output_type": "stream",
     "text": [
      "[\n",
      "  \"iris.csv\"\n",
      "]\n"
     ]
    }
   ],
   "source": [
    "print(json.dumps(files, indent=2))"
   ]
  },
  {
   "cell_type": "code",
   "execution_count": 13,
   "metadata": {},
   "outputs": [],
   "source": [
    "from azureml.core import Run\n",
    "import pandas as pd\n",
    "import matplotlib.pyplot as plt\n",
    "import os"
   ]
  },
  {
   "cell_type": "code",
   "execution_count": 15,
   "metadata": {},
   "outputs": [
    {
     "name": "stdout",
     "output_type": "stream",
     "text": [
      "Attempted to log scalar metric observations:\n",
      "149\n"
     ]
    }
   ],
   "source": [
    "# Get the experiment run context\n",
    "run = Run.get_context()\n",
    "\n",
    "# load the iris dataset\n",
    "data = pd.read_csv('iris.csv')\n",
    "\n",
    "# Count the rows and log the result\n",
    "row_count = (len(data))\n",
    "run.log('observations', row_count)\n",
    "\n",
    "# Save a sample of the data\n",
    "os.makedirs('outputs', exist_ok=True)\n",
    "data.sample(100).to_csv(\"outputs/sample.csv\", index=False, header=True)\n",
    "\n",
    "# Complete the run\n",
    "run.complete()"
   ]
  },
  {
   "cell_type": "code",
   "execution_count": 19,
   "metadata": {},
   "outputs": [
    {
     "name": "stdout",
     "output_type": "stream",
     "text": [
      "RunId: my-experiment_1595003268_5646220c\n",
      "Web View: https://ml.azure.com/experiments/my-experiment/runs/my-experiment_1595003268_5646220c?wsid=/subscriptions/72656d3a-fc47-4387-8c69-13f86d502d86/resourcegroups/myMLResourceGroup/workspaces/myMLWorkspace1\n",
      "\n",
      "Streaming azureml-logs/60_control_log.txt\n",
      "=========================================\n",
      "\n",
      "Streaming log file azureml-logs/60_control_log.txt\n",
      "Running: ['cmd.exe', '/c', 'C:\\\\Users\\\\Ryan\\\\AppData\\\\Local\\\\Temp\\\\azureml_runs\\\\my-experiment_1595003268_5646220c\\\\azureml-environment-setup/conda_env_checker.bat']\n",
      "Starting the daemon thread to refresh tokens in background for process with pid = 6208\n",
      "Materialized conda environment not found on target: C:\\Users\\Ryan/.azureml/envs/azureml_da3e97fcb51801118b8e80207f3e01ad\n",
      "\n",
      "\n",
      "Logging experiment preparation status in history service.\n",
      "Running: ['cmd.exe', '/c', 'C:\\\\Users\\\\Ryan\\\\AppData\\\\Local\\\\Temp\\\\azureml_runs\\\\my-experiment_1595003268_5646220c\\\\azureml-environment-setup/conda_env_builder.bat']\n",
      "Running: ['conda', '--version']\n",
      "[WinError 2] The system cannot find the file specified\n",
      "\n",
      "Unable to run conda package manager. AzureML uses conda to provision python\n",
      "environments from a dependency specification. To manage the python environment\n",
      "manually instead, set userManagedDependencies to True in the python environment\n",
      "configuration. To use system managed python environments, install conda from:\n",
      "https://conda.io/miniconda.html\n",
      "\n",
      "\n",
      "\n",
      "Logging error in history service: Failed to run ['cmd.exe', '/c', 'C:\\\\Users\\\\Ryan\\\\AppData\\\\Local\\\\Temp\\\\azureml_runs\\\\my-experiment_1595003268_5646220c\\\\azureml-environment-setup/conda_env_builder.bat'] \n",
      " Exit code 1 \n",
      "Details can be found in azureml-logs/60_control_log.txt log file.\n",
      "\n",
      "Uploading control log...\n",
      "\n",
      "Execution Summary\n",
      "=================\n",
      "RunId: my-experiment_1595003268_5646220c\n",
      "Web View: https://ml.azure.com/experiments/my-experiment/runs/my-experiment_1595003268_5646220c?wsid=/subscriptions/72656d3a-fc47-4387-8c69-13f86d502d86/resourcegroups/myMLResourceGroup/workspaces/myMLWorkspace1\n",
      "\n",
      "Warnings:\n",
      "{\n",
      "  \"error\": {\n",
      "    \"code\": \"ServiceError\",\n",
      "    \"severity\": null,\n",
      "    \"message\": \"Failed to run ['cmd.exe', '/c', 'C:\\\\\\\\Users\\\\\\\\Ryan\\\\\\\\AppData\\\\\\\\Local\\\\\\\\Temp\\\\\\\\azureml_runs\\\\\\\\my-experiment_1595003268_5646220c\\\\\\\\azureml-environment-setup/conda_env_builder.bat'] \\n Exit code 1 \\nDetails can be found in azureml-logs/60_control_log.txt log file.\",\n",
      "    \"messageFormat\": null,\n",
      "    \"messageParameters\": {},\n",
      "    \"referenceCode\": null,\n",
      "    \"detailsUri\": null,\n",
      "    \"target\": null,\n",
      "    \"details\": [],\n",
      "    \"innerError\": null,\n",
      "    \"debugInfo\": null\n",
      "  },\n",
      "  \"correlation\": null,\n",
      "  \"environment\": null,\n",
      "  \"location\": null,\n",
      "  \"time\": \"0001-01-01T00:00:00+00:00\",\n",
      "  \"componentName\": null\n",
      "}\n",
      "\n"
     ]
    },
    {
     "ename": "ActivityFailedException",
     "evalue": "ActivityFailedException:\n\tMessage: Activity Failed:\n{\n    \"error\": {\n        \"code\": \"UserError\",\n        \"message\": \"Unable to run conda package manager. AzureML uses conda to provision python\\nenvironments from a dependency specification. To manage the python environment\\nmanually instead, set userManagedDependencies to True in the python environment\\nconfiguration. To use system managed python environments, install conda from:\\nhttps://conda.io/miniconda.html\",\n        \"details\": [],\n        \"messageParameters\": {}\n    },\n    \"time\": \"2020-07-17T16:27:54.745367Z\"\n}\n\tInnerException None\n\tErrorResponse \n{\n    \"error\": {\n        \"message\": \"Activity Failed:\\n{\\n    \\\"error\\\": {\\n        \\\"code\\\": \\\"UserError\\\",\\n        \\\"message\\\": \\\"Unable to run conda package manager. AzureML uses conda to provision python\\\\nenvironments from a dependency specification. To manage the python environment\\\\nmanually instead, set userManagedDependencies to True in the python environment\\\\nconfiguration. To use system managed python environments, install conda from:\\\\nhttps://conda.io/miniconda.html\\\",\\n        \\\"details\\\": [],\\n        \\\"messageParameters\\\": {}\\n    },\\n    \\\"time\\\": \\\"2020-07-17T16:27:54.745367Z\\\"\\n}\"\n    }\n}",
     "output_type": "error",
     "traceback": [
      "\u001b[1;31m---------------------------------------------------------------------------\u001b[0m",
      "\u001b[1;31mActivityFailedException\u001b[0m                   Traceback (most recent call last)",
      "\u001b[1;32m<ipython-input-19-30227a830c03>\u001b[0m in \u001b[0;36m<module>\u001b[1;34m\u001b[0m\n\u001b[0;32m     12\u001b[0m \u001b[0mexperiment\u001b[0m \u001b[1;33m=\u001b[0m \u001b[0mExperiment\u001b[0m\u001b[1;33m(\u001b[0m\u001b[0mworkspace\u001b[0m \u001b[1;33m=\u001b[0m \u001b[0mws\u001b[0m\u001b[1;33m,\u001b[0m \u001b[0mname\u001b[0m \u001b[1;33m=\u001b[0m \u001b[1;34m'my-experiment'\u001b[0m\u001b[1;33m)\u001b[0m\u001b[1;33m\u001b[0m\u001b[1;33m\u001b[0m\u001b[0m\n\u001b[0;32m     13\u001b[0m \u001b[0mrun\u001b[0m \u001b[1;33m=\u001b[0m \u001b[0mexperiment\u001b[0m\u001b[1;33m.\u001b[0m\u001b[0msubmit\u001b[0m\u001b[1;33m(\u001b[0m\u001b[0mconfig\u001b[0m\u001b[1;33m=\u001b[0m\u001b[0mscript_config\u001b[0m\u001b[1;33m)\u001b[0m\u001b[1;33m\u001b[0m\u001b[1;33m\u001b[0m\u001b[0m\n\u001b[1;32m---> 14\u001b[1;33m \u001b[0mrun\u001b[0m\u001b[1;33m.\u001b[0m\u001b[0mwait_for_completion\u001b[0m\u001b[1;33m(\u001b[0m\u001b[0mshow_output\u001b[0m\u001b[1;33m=\u001b[0m\u001b[1;32mTrue\u001b[0m\u001b[1;33m)\u001b[0m\u001b[1;33m\u001b[0m\u001b[1;33m\u001b[0m\u001b[0m\n\u001b[0m",
      "\u001b[1;32mc:\\users\\ryan\\appdata\\local\\programs\\python\\python38\\lib\\site-packages\\azureml\\core\\run.py\u001b[0m in \u001b[0;36mwait_for_completion\u001b[1;34m(self, show_output, wait_post_processing, raise_on_error)\u001b[0m\n\u001b[0;32m    695\u001b[0m         \u001b[1;32mif\u001b[0m \u001b[0mshow_output\u001b[0m\u001b[1;33m:\u001b[0m\u001b[1;33m\u001b[0m\u001b[1;33m\u001b[0m\u001b[0m\n\u001b[0;32m    696\u001b[0m             \u001b[1;32mtry\u001b[0m\u001b[1;33m:\u001b[0m\u001b[1;33m\u001b[0m\u001b[1;33m\u001b[0m\u001b[0m\n\u001b[1;32m--> 697\u001b[1;33m                 self._stream_run_output(\n\u001b[0m\u001b[0;32m    698\u001b[0m                     \u001b[0mfile_handle\u001b[0m\u001b[1;33m=\u001b[0m\u001b[0msys\u001b[0m\u001b[1;33m.\u001b[0m\u001b[0mstdout\u001b[0m\u001b[1;33m,\u001b[0m\u001b[1;33m\u001b[0m\u001b[1;33m\u001b[0m\u001b[0m\n\u001b[0;32m    699\u001b[0m                     \u001b[0mwait_post_processing\u001b[0m\u001b[1;33m=\u001b[0m\u001b[0mwait_post_processing\u001b[0m\u001b[1;33m,\u001b[0m\u001b[1;33m\u001b[0m\u001b[1;33m\u001b[0m\u001b[0m\n",
      "\u001b[1;32mc:\\users\\ryan\\appdata\\local\\programs\\python\\python38\\lib\\site-packages\\azureml\\core\\run.py\u001b[0m in \u001b[0;36m_stream_run_output\u001b[1;34m(self, file_handle, wait_post_processing, raise_on_error)\u001b[0m\n\u001b[0;32m    941\u001b[0m                 \u001b[0mfile_handle\u001b[0m\u001b[1;33m.\u001b[0m\u001b[0mwrite\u001b[0m\u001b[1;33m(\u001b[0m\u001b[1;34m\"\\n\"\u001b[0m\u001b[1;33m)\u001b[0m\u001b[1;33m\u001b[0m\u001b[1;33m\u001b[0m\u001b[0m\n\u001b[0;32m    942\u001b[0m             \u001b[1;32melse\u001b[0m\u001b[1;33m:\u001b[0m\u001b[1;33m\u001b[0m\u001b[1;33m\u001b[0m\u001b[0m\n\u001b[1;32m--> 943\u001b[1;33m                 \u001b[1;32mraise\u001b[0m \u001b[0mActivityFailedException\u001b[0m\u001b[1;33m(\u001b[0m\u001b[0merror_details\u001b[0m\u001b[1;33m=\u001b[0m\u001b[0mjson\u001b[0m\u001b[1;33m.\u001b[0m\u001b[0mdumps\u001b[0m\u001b[1;33m(\u001b[0m\u001b[0merror\u001b[0m\u001b[1;33m,\u001b[0m \u001b[0mindent\u001b[0m\u001b[1;33m=\u001b[0m\u001b[1;36m4\u001b[0m\u001b[1;33m)\u001b[0m\u001b[1;33m)\u001b[0m\u001b[1;33m\u001b[0m\u001b[1;33m\u001b[0m\u001b[0m\n\u001b[0m\u001b[0;32m    944\u001b[0m \u001b[1;33m\u001b[0m\u001b[0m\n\u001b[0;32m    945\u001b[0m         \u001b[0mfile_handle\u001b[0m\u001b[1;33m.\u001b[0m\u001b[0mwrite\u001b[0m\u001b[1;33m(\u001b[0m\u001b[1;34m\"\\n\"\u001b[0m\u001b[1;33m)\u001b[0m\u001b[1;33m\u001b[0m\u001b[1;33m\u001b[0m\u001b[0m\n",
      "\u001b[1;31mActivityFailedException\u001b[0m: ActivityFailedException:\n\tMessage: Activity Failed:\n{\n    \"error\": {\n        \"code\": \"UserError\",\n        \"message\": \"Unable to run conda package manager. AzureML uses conda to provision python\\nenvironments from a dependency specification. To manage the python environment\\nmanually instead, set userManagedDependencies to True in the python environment\\nconfiguration. To use system managed python environments, install conda from:\\nhttps://conda.io/miniconda.html\",\n        \"details\": [],\n        \"messageParameters\": {}\n    },\n    \"time\": \"2020-07-17T16:27:54.745367Z\"\n}\n\tInnerException None\n\tErrorResponse \n{\n    \"error\": {\n        \"message\": \"Activity Failed:\\n{\\n    \\\"error\\\": {\\n        \\\"code\\\": \\\"UserError\\\",\\n        \\\"message\\\": \\\"Unable to run conda package manager. AzureML uses conda to provision python\\\\nenvironments from a dependency specification. To manage the python environment\\\\nmanually instead, set userManagedDependencies to True in the python environment\\\\nconfiguration. To use system managed python environments, install conda from:\\\\nhttps://conda.io/miniconda.html\\\",\\n        \\\"details\\\": [],\\n        \\\"messageParameters\\\": {}\\n    },\\n    \\\"time\\\": \\\"2020-07-17T16:27:54.745367Z\\\"\\n}\"\n    }\n}"
     ]
    }
   ],
   "source": [
    "from azureml.core import Experiment, RunConfiguration, ScriptRunConfig\n",
    "\n",
    "# create a new RunConfig object\n",
    "experiment_run_config = RunConfiguration()\n",
    "\n",
    "# Create a script config\n",
    "script_config = ScriptRunConfig(source_directory=\"experiment_folder\", \n",
    "                      script='experiment.py',\n",
    "                      run_config=experiment_run_config) \n",
    "\n",
    "# submit the experiment\n",
    "experiment = Experiment(workspace = ws, name = 'my-experiment')\n",
    "run = experiment.submit(config=script_config)\n",
    "run.wait_for_completion(show_output=True)"
   ]
  },
  {
   "cell_type": "code",
   "execution_count": null,
   "metadata": {},
   "outputs": [],
   "source": []
  }
 ],
 "metadata": {
  "kernelspec": {
   "display_name": "Python 3",
   "language": "python",
   "name": "python3"
  },
  "language_info": {
   "codemirror_mode": {
    "name": "ipython",
    "version": 3
   },
   "file_extension": ".py",
   "mimetype": "text/x-python",
   "name": "python",
   "nbconvert_exporter": "python",
   "pygments_lexer": "ipython3",
   "version": "3.8.4"
  }
 },
 "nbformat": 4,
 "nbformat_minor": 4
}
