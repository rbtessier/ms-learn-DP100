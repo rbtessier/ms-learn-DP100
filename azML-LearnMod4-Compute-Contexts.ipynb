{
 "cells": [
  {
   "cell_type": "markdown",
   "metadata": {},
   "source": [
    "# Intro\n",
    "In Azure Machine Learning, data scientsts can run *experiments* based on scripts that process data, train machine learning models, adn perform other data science tasks. The runtime context for each experiment run consists of two elements:\n",
    "- The *environment* for the scirpt, which includes all packages on which the script depends.\n",
    "- The *compute* target on which the environment will be deployed and the script run\n",
    "\n",
    "# Ryan's Thoughts\n",
    "In my `kaggle_bike-sharing-demand-asmlMOD1-Copy1` I read a number of warnings about my sklearn not being the same version as that used in the model training (on workspace). This had me worried that I was getting bad numbers due to this. After testing on the Notebook on my ML workspace in Azure, that didn't seem to be the problem, but it highlights how running on a certain environment and having consistent packages is important!!"
   ]
  },
  {
   "cell_type": "markdown",
   "metadata": {},
   "source": [
    "# Intro to Environments\n",
    "Python code runs in the context of a *virtual environment* that defines the version of the Python runtime to be used as well as the installed packages available to the code. In most Python installations, packages are installed and managed in environments using ```Conda``` or ```pip```."
   ]
  },
  {
   "cell_type": "markdown",
   "metadata": {},
   "source": [
    "## Environments in Azure Machine Learning\n",
    "In general, Azure Machine Learning handles environment creation and package installation for you - usually through the creation of Docker containers. You can specify the Conda or pip packages you need, and have Azure Machine Learning create an environment for the experiment.\n",
    "\n",
    "In an enterprise machine learning solution, where experiments may be run in a variety of compute contexts, it can be important to be aware of the environments in which your experiment code is running. Environments are encapsulated by the Environment class; which you can use to create environments and specify runtime configuration for an experiment.\n",
    "\n",
    "You can have Azure Machine Learning manage environment creation and package installation to define an environment, and then register it for reuse. Alternatively, you can manage your own environments and register them. This makes it possible to define consistent, reusable runtime contexts for your experiments - regardless of where the experiment script is run."
   ]
  },
  {
   "cell_type": "markdown",
   "metadata": {},
   "source": [
    "# Creating environments\n",
    "There are multiple wasys to create environments in Azure Machine Learning:\n",
    "\n",
    "## Creating an environment from a specification file\n",
    "\n",
    "You can use a Conda or pip specification file to define the packages required in a Python environment, and use it to create an `Environment` object.\n",
    "\n",
    "For Example, you could save the following Conda configuration settings in a file named `conda.yml`"
   ]
  },
  {
   "cell_type": "raw",
   "metadata": {},
   "source": [
    "name: py_env\n",
    "dependencies:\n",
    "    - numpy\n",
    "    - pandas\n",
    "    - scikit-learn\n",
    "    - pip:\n",
    "        - azureml-defaults"
   ]
  },
  {
   "cell_type": "markdown",
   "metadata": {},
   "source": [
    "You could then use the following code to create an Azure Machine Learning environment from the saved specification file:"
   ]
  },
  {
   "cell_type": "code",
   "execution_count": null,
   "metadata": {},
   "outputs": [],
   "source": [
    "from azureml.core import Environment\n",
    "\n",
    "env = Environment.from_conda_specification(name = 'training_environment',\n",
    "                                          file_path = './conda.yml')"
   ]
  },
  {
   "cell_type": "markdown",
   "metadata": {},
   "source": [
    "## Creating environment from an existing Conda environment\n",
    "If you have an existing Conda environment defined on your workstation, you can use it to define an Azure ML environment"
   ]
  },
  {
   "cell_type": "code",
   "execution_count": null,
   "metadata": {},
   "outputs": [],
   "source": [
    "from azureml.core import Environment\n",
    "\n",
    "env = Environment.from_existing_conda_environment(name='training_environment',\n",
    "                                                  conda_environment_name='py_env')"
   ]
  },
  {
   "cell_type": "markdown",
   "metadata": {},
   "source": [
    "## Creating an environment by specifying packages\n",
    "You can define an environment by specifying the Conda and pip pakcages you need in a `CondaDependencies` object, like this:"
   ]
  },
  {
   "cell_type": "code",
   "execution_count": null,
   "metadata": {},
   "outputs": [],
   "source": [
    "from azureml.core import Environment\n",
    "from azureml.core.conda_dependencies import CondaDependencies\n",
    "\n",
    "env = Environment('training_environment')\n",
    "deps = CondaDependencies.create(conda_packages=['scikit-learn', 'pandas', 'numpy'], \n",
    "                                pip_packages=['azureml-defaults'])\n",
    "env.python.conda_dependencies = deps"
   ]
  },
  {
   "cell_type": "code",
   "execution_count": null,
   "metadata": {},
   "outputs": [],
   "source": []
  }
 ],
 "metadata": {
  "kernelspec": {
   "display_name": "Python 3",
   "language": "python",
   "name": "python3"
  },
  "language_info": {
   "codemirror_mode": {
    "name": "ipython",
    "version": 3
   },
   "file_extension": ".py",
   "mimetype": "text/x-python",
   "name": "python",
   "nbconvert_exporter": "python",
   "pygments_lexer": "ipython3",
   "version": "3.8.4"
  }
 },
 "nbformat": 4,
 "nbformat_minor": 4
}
