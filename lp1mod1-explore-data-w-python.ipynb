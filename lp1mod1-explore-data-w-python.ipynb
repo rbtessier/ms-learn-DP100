{
 "cells": [
  {
   "cell_type": "markdown",
   "metadata": {},
   "source": [
    "# Explore and analyze data with Python\n",
    "Data exploration and analysis is at the core of data science. Data scientists require skills in languages like Python to explore, visualize and manipulate data\n",
    "\n",
    "## Learning Objectives\n",
    "- Common data exploration and analysis tasts\n",
    "- How to use Python packages like NumPy, Pandas, and Matplotlib to analyze data"
   ]
  },
  {
   "cell_type": "markdown",
   "metadata": {},
   "source": [
    "## Exercise - Explore data\n",
    "Data exploration and and analysis is typically an *iterative* process, in which the data scientist takes a sample of data, and performs the following kinds of task to analyze it and test hypotheses:\n",
    "- CLean data to handle errors, missing values, and other issues\n",
    "- Apply statistical techniques to better understand the data, and how the sample might be expected to represent the real-world population of data, allowing for random variation\n",
    "- Visualize data to determine relationships between variables, and in the case of a machine learning project, identify *features* that are potentially predictive of the *label*.\n",
    "- Derive new features from existing ones that might better encapsulate relationships within the data\n",
    "- Revise the hypothesis and repeat the process.\n",
    "\n",
    "Data scientsts can use a variety of tools and techniques to explore, visualize and manipulate data. One of the most common ways in which data scientists work with data is to use the Python language and some specific packages for data processing."
   ]
  }
 ],
 "metadata": {
  "kernelspec": {
   "display_name": "Python 3",
   "language": "python",
   "name": "python3"
  },
  "language_info": {
   "codemirror_mode": {
    "name": "ipython",
    "version": 3
   },
   "file_extension": ".py",
   "mimetype": "text/x-python",
   "name": "python",
   "nbconvert_exporter": "python",
   "pygments_lexer": "ipython3",
   "version": "3.8.4"
  }
 },
 "nbformat": 4,
 "nbformat_minor": 4
}
